{
  "nbformat": 4,
  "nbformat_minor": 0,
  "metadata": {
    "colab": {
      "name": "lab8_PZND.ipynb",
      "provenance": [],
      "collapsed_sections": [],
      "authorship_tag": "ABX9TyPSM9IpMQJS7okJ8MLPEbDu",
      "include_colab_link": true
    },
    "kernelspec": {
      "name": "python3",
      "display_name": "Python 3"
    },
    "language_info": {
      "name": "python"
    }
  },
  "cells": [
    {
      "cell_type": "markdown",
      "metadata": {
        "id": "view-in-github",
        "colab_type": "text"
      },
      "source": [
        "<a href=\"https://colab.research.google.com/github/lomovtsevp/non-linear-dynamic-systems/blob/main/lab8_PZND.ipynb\" target=\"_parent\"><img src=\"https://colab.research.google.com/assets/colab-badge.svg\" alt=\"Open In Colab\"/></a>"
      ]
    },
    {
      "cell_type": "markdown",
      "metadata": {
        "id": "4qYvp_Gy5Xre"
      },
      "source": [
        "<font size=5>***Ломовцев Павел ИМБО-01-19***"
      ]
    },
    {
      "cell_type": "markdown",
      "metadata": {
        "id": "w7DsH8kn5bNG"
      },
      "source": [
        "<font size=5>***Практика 8. Параметрическое исследование логистического отображения. Компьютерное построение бифуркационной диаграммы.***"
      ]
    },
    {
      "cell_type": "code",
      "metadata": {
        "id": "qN8dG5QZ5TPD"
      },
      "source": [
        "import scipy.integrate as integr            \n",
        "import numpy as np                          \n",
        "import matplotlib.pyplot as plt\n",
        "\n",
        "stat_dpi=90\n",
        "dynamics_pics = (6, 3)\n",
        "rect_pics = (6, 6)"
      ],
      "execution_count": null,
      "outputs": []
    },
    {
      "cell_type": "markdown",
      "metadata": {
        "id": "iwUjjbGgqDd1"
      },
      "source": [
        "Построим Дерево Фейгенбаума для 0 < 𝚛 < 2 согласно своему варианту (1) x(n+1) = 1 - r * xn ** 2 "
      ]
    },
    {
      "cell_type": "code",
      "metadata": {
        "colab": {
          "base_uri": "https://localhost:8080/",
          "height": 295
        },
        "id": "CAJ-LcWcnyhl",
        "outputId": "af50bd3d-41fc-430d-b073-2f9965cbd761"
      },
      "source": [
        "N = 1000\n",
        "y = []\n",
        "y.append(0.5)\n",
        "for r in np.arange(0.0, 2.0, 0.0001):  \n",
        "    for n in np.arange(1, N, 1):       \n",
        "        y.append((round(1 - r * y[n-1] ** 2, 4))) \n",
        "    y = y[N-250:N]\n",
        "    r = [r] * 250\n",
        "    plt.plot(r, y, color='black', linestyle=' ', marker='.', markersize=1) \n",
        "plt.title(\"Дерево Фейгенбаума при 0 < r < 2\")\n",
        "plt.xlabel(\"r\")\n",
        "plt.ylabel(\"x\")\n",
        "plt.show()"
      ],
      "execution_count": null,
      "outputs": [
        {
          "output_type": "display_data",
          "data": {
            "image/png": "[encoded data removed]",
            "text/plain": [
              "<Figure size 432x288 with 1 Axes>"
            ]
          },
          "metadata": {
            "needs_background": "light"
          }
        }
      ]
    },
    {
      "cell_type": "markdown",
      "metadata": {
        "id": "Ru84BQ5lwg30"
      },
      "source": [
        "<font size=5>***Проанализируем построенную диаграмму. Единственное значение отображения определяется до значения $r\\approx 0.77 $, затем цикл с периодом 2 до $r\\approx 1.25$, затем цикл с периодом 4 до $r\\approx 1.41$, затем 8 и, наконец, хаос.***"
      ]
    }
  ]
}